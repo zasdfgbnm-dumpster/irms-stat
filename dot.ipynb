{
 "cells": [
  {
   "cell_type": "code",
   "execution_count": 1,
   "metadata": {
    "collapsed": false
   },
   "outputs": [
    {
     "name": "stdout",
     "output_type": "stream",
     "text": [
      "Populating the interactive namespace from numpy and matplotlib\n"
     ]
    }
   ],
   "source": [
    "# set up spark\n",
    "import sys\n",
    "import os\n",
    "pyspark_libs_dir = \"/opt/apache-spark/python/lib/\"\n",
    "sys.path += [ pyspark_libs_dir + x for x in os.listdir(pyspark_libs_dir) ]\n",
    "from pyspark import *\n",
    "from pyspark.sql import *\n",
    "spark = SparkSession.builder.getOrCreate()\n",
    "\n",
    "# set up python\n",
    "import matplotlib.pyplot as plt\n",
    "import numpy as np\n",
    "%pylab inline"
   ]
  },
  {
   "cell_type": "code",
   "execution_count": 2,
   "metadata": {
    "collapsed": false
   },
   "outputs": [
    {
     "name": "stdout",
     "output_type": "stream",
     "text": [
      "+--------------------+-------+--------------------+\n",
      "|                  fg|   mass|              smiles|\n",
      "+--------------------+-------+--------------------+\n",
      "|00000001001000000001| 165.28|CNC(C=CC)C(C=C)C1CC1|\n",
      "|00000001001100000000|171.244|CNCC12COC1(C)C(N)CN2|\n",
      "|00100011000000000000|179.263|CC1C2CCC1C1(CNC(=...|\n",
      "|00000001001100000001|178.235|C1C2NC1C13CC=C(OC...|\n",
      "|00000001011000000000|177.211|C1CC2=C(N1)N(C=N2...|\n",
      "|00000110010110000000|161.116|OC1=C2OC(=O)C2=CC...|\n",
      "|10000011001010000001|178.191|OC(=O)C1=C(C#N)C2...|\n",
      "|00100011001000000010|186.211|CC1C2ONC(=O)C(N)C...|\n",
      "|00000001000000000001|177.291|CC=C1C2C3CN2CCCC1CC3|\n",
      "|01000011000100000001|181.235|CCOCC12C=CC(C)N1C...|\n",
      "|00001011000100000011|180.203|CC(O)C1C(=O)C2CC1...|\n",
      "|00000001001000000001|179.307|CC(C)C1C2C1C(C)=C...|\n",
      "|01000011000100000001|178.231|CC1CC11OC2CC2CC=C...|\n",
      "|00001011001100000011|182.179|CN1NC=CC1=C1OCC(O...|\n",
      "|10000011000000000000|187.239|CCC(C)CN(CCC(O)=O...|\n",
      "|00000001001100000001|180.207|C=C1C2NCC2OC2C=NO...|\n",
      "|00000011001100000000|185.227| NCCCCC(=O)N=C1NCCO1|\n",
      "|00000111001100000011|183.207|CCC12NC1CC=COC(=O...|\n",
      "|00000001001000000010|185.271|CNC(=N)CCC1(O)CC(...|\n",
      "|00100011000100000001|181.235|CC1NC(=O)C2=CCCC2...|\n",
      "+--------------------+-------+--------------------+\n",
      "only showing top 20 rows\n",
      "\n",
      "total items: 975850887\n"
     ]
    }
   ],
   "source": [
    "_universe = spark.read.parquet(\"/home/gaoxiang/MEGA/tables/StructureUniverse\")\n",
    "\n",
    "def get_bitvec(fg):\n",
    "    s = ''\n",
    "    for i in list(fg):\n",
    "        if i:\n",
    "            s += '1'\n",
    "        else:\n",
    "            s += '0'\n",
    "    return s\n",
    "def convert_fg(x):\n",
    "    return Row(smiles=x['smiles'],mass=x['mass'],fg=get_bitvec(x['fg']))\n",
    "\n",
    "universe = _universe.rdd.map(convert_fg).toDF()\n",
    "universe.show()\n",
    "print('total items:', _universe.count())"
   ]
  },
  {
   "cell_type": "code",
   "execution_count": 3,
   "metadata": {
    "collapsed": false
   },
   "outputs": [
    {
     "name": "stdout",
     "output_type": "stream",
     "text": [
      "+--------------------+\n",
      "|                  fg|\n",
      "+--------------------+\n",
      "|00000001101000000000|\n",
      "|00000001000000000001|\n",
      "|00000001010000000000|\n",
      "|00000001101000000001|\n",
      "|00000001000000000000|\n",
      "|00000001001000000000|\n",
      "|00000001100000000001|\n",
      "|00000001000010000000|\n",
      "|00000001100000000000|\n",
      "|00000001000010000001|\n",
      "|00000001001000000001|\n",
      "+--------------------+\n",
      "\n"
     ]
    }
   ],
   "source": [
    "m165_280 = _universe.filter('mass==165.280').limit(3000).rdd.map(convert_fg).toDF()\n",
    "m165_280.select('fg').distinct().show()"
   ]
  },
  {
   "cell_type": "code",
   "execution_count": 7,
   "metadata": {
    "collapsed": false
   },
   "outputs": [
    {
     "name": "stdout",
     "output_type": "stream",
     "text": [
      "['CC(C)C(N)CCC1(CC1)C#C', 'CCNCCC1(CCCC1)C#C', 'CC(C)(C)C#CC(N)C1CCC1']\n",
      "['CCCCCC(=CC#N)C(C)C', 'CCCC(CCC)=CC(C)C#N', 'CCC(CC#N)C(C)C=C(C)C']\n",
      "['CCN1C2CC2(C)C2(CC)CC12', 'CC(C)CC1C2C3CC(C3)CN12', 'CC1C2CC3CCC2CN3C1C']\n"
     ]
    }
   ],
   "source": [
    "print(m165_280.select('smiles').filter('fg==00000001101000000000').limit(3).rdd.map(lambda x:x['smiles']).collect())\n",
    "print(m165_280.select('smiles').filter('fg==00000001000010000001').limit(3).rdd.map(lambda x:x['smiles']).collect())\n",
    "print(m165_280.select('smiles').filter('fg==00000001000000000000').limit(3).rdd.map(lambda x:x['smiles']).collect())"
   ]
  },
  {
   "cell_type": "code",
   "execution_count": 5,
   "metadata": {
    "collapsed": false
   },
   "outputs": [
    {
     "name": "stdout",
     "output_type": "stream",
     "text": [
      "+--------------------+-------+--------------------+\n",
      "|                  fg|   mass|              smiles|\n",
      "+--------------------+-------+--------------------+\n",
      "|00000001101000000000|164.252|CCC1NC2CC(C2)C1(N...|\n",
      "|00000001101000000000|178.279|CNCC1CCC2(NCC2C1)C#C|\n",
      "|00000001101000000000|177.251|CC(C)C12CC(N1)C(C...|\n",
      "+--------------------+-------+--------------------+\n",
      "\n"
     ]
    }
   ],
   "source": [
    "universe.filter('fg==00000001101000000000').limit(3).show()"
   ]
  },
  {
   "cell_type": "code",
   "execution_count": 8,
   "metadata": {
    "collapsed": false
   },
   "outputs": [
    {
     "name": "stdout",
     "output_type": "stream",
     "text": [
      "+--------------------+\n",
      "|                  fg|\n",
      "+--------------------+\n",
      "|00000011000000000001|\n",
      "|00000001000000000001|\n",
      "|00001011001000000000|\n",
      "|00000011000000000000|\n",
      "|00000001001110000000|\n",
      "|00000011001000000001|\n",
      "|00000001101000000010|\n",
      "|00000001001000000010|\n",
      "|00000011001000000000|\n",
      "|01000011001000000000|\n",
      "|00000001000000000010|\n",
      "|00000001000100000000|\n",
      "|00000001001000000000|\n",
      "|00000001000000000000|\n",
      "|00000001000100000001|\n",
      "|00000001001000000011|\n",
      "|00100011001000000001|\n",
      "|00100011000000000000|\n",
      "|00000001001100000000|\n",
      "|00000001001010000010|\n",
      "+--------------------+\n",
      "only showing top 20 rows\n",
      "\n"
     ]
    }
   ],
   "source": [
    "m171_244 = _universe.filter('mass==171.244').limit(3000).rdd.map(convert_fg).toDF()\n",
    "m171_244.select('fg').distinct().show()"
   ]
  },
  {
   "cell_type": "code",
   "execution_count": 9,
   "metadata": {
    "collapsed": false
   },
   "outputs": [
    {
     "name": "stdout",
     "output_type": "stream",
     "text": [
      "['CC=CNC(=O)NCCN(C)C']\n",
      "['CC(CN(C=C)C=NO)N(C)C']\n",
      "['CC(C)CNC(C)C(=O)C(N)=N', 'CCNN=CCC(NC)C(C)=O', 'CCC(=O)C(=N)N(NC)C(C)C']\n"
     ]
    }
   ],
   "source": [
    "print(m171_244.select('smiles').filter('fg==00000011000000000001').limit(3).rdd.map(lambda x:x['smiles']).collect())\n",
    "print(m171_244.select('smiles').filter('fg==00000001000000000001').limit(3).rdd.map(lambda x:x['smiles']).collect())\n",
    "print(m171_244.select('smiles').filter('fg==00001011001000000000').limit(3).rdd.map(lambda x:x['smiles']).collect())"
   ]
  },
  {
   "cell_type": "code",
   "execution_count": 10,
   "metadata": {
    "collapsed": false
   },
   "outputs": [
    {
     "name": "stdout",
     "output_type": "stream",
     "text": [
      "+--------------------+\n",
      "|                  fg|\n",
      "+--------------------+\n",
      "|00000001000000000011|\n",
      "|00000011000000000001|\n",
      "|01000011000000000001|\n",
      "|00000001000000000001|\n",
      "|00001011100000000000|\n",
      "|00100011100000000000|\n",
      "|00000001011000000001|\n",
      "|00000011100000000000|\n",
      "|00001011001000000000|\n",
      "|00000001100010000010|\n",
      "|00001011101000000001|\n",
      "|01000011001000000001|\n",
      "|00000011000000000000|\n",
      "|00000001010000000000|\n",
      "|00000001101000000010|\n",
      "|00000001101000000011|\n",
      "|00001011001000000001|\n",
      "|00001011000000000000|\n",
      "|00000001001000000010|\n",
      "|00000001000010000010|\n",
      "+--------------------+\n",
      "only showing top 20 rows\n",
      "\n"
     ]
    }
   ],
   "source": [
    "m179_263 = _universe.filter('mass==179.263').limit(3000).rdd.map(convert_fg).toDF()\n",
    "m179_263.select('fg').distinct().show()"
   ]
  },
  {
   "cell_type": "code",
   "execution_count": 13,
   "metadata": {
    "collapsed": false
   },
   "outputs": [
    {
     "name": "stdout",
     "output_type": "stream",
     "text": [
      "['CN1CC2C3CC2(O)C1C(=C)CC3', 'CC1C(O)C2C3C(CC=CC12)N3C', 'CC1N2C3C=CC(C)C3(O)CC12C']\n"
     ]
    }
   ],
   "source": [
    "print(m179_263.select('smiles').filter('fg==00000001000000000011').limit(3).rdd.map(lambda x:x['smiles']).collect())"
   ]
  },
  {
   "cell_type": "code",
   "execution_count": 14,
   "metadata": {
    "collapsed": false
   },
   "outputs": [
    {
     "name": "stdout",
     "output_type": "stream",
     "text": [
      "+--------------------+\n",
      "|                  fg|\n",
      "+--------------------+\n",
      "|01000011011000000000|\n",
      "|00000001000000000011|\n",
      "|01000011000000000001|\n",
      "|00000011000000000001|\n",
      "|00000001000000000001|\n",
      "|00000001101000000000|\n",
      "|00001011001010000000|\n",
      "|00001011100000000000|\n",
      "|00000011000010000001|\n",
      "|00100011100000000000|\n",
      "|00000001110100000000|\n",
      "|00000001011000000001|\n",
      "|00001011011000000000|\n",
      "|00000011100000000000|\n",
      "|00001011001000000000|\n",
      "|01000011100000000000|\n",
      "|00000001100010000010|\n",
      "|00001011101000000001|\n",
      "|01000011001000000001|\n",
      "|00000001010000000000|\n",
      "+--------------------+\n",
      "only showing top 20 rows\n",
      "\n"
     ]
    }
   ],
   "source": [
    "m178_235 = _universe.filter('mass==178.235').limit(3000).rdd.map(convert_fg).toDF()\n",
    "m178_235.select('fg').distinct().show()"
   ]
  },
  {
   "cell_type": "code",
   "execution_count": 16,
   "metadata": {
    "collapsed": false
   },
   "outputs": [
    {
     "name": "stdout",
     "output_type": "stream",
     "text": [
      "['O=CCCC1=CNC(=C1)C1CNC1']\n"
     ]
    }
   ],
   "source": [
    "print(m178_235.select('smiles').filter('fg==01000011011000000000').limit(3).rdd.map(lambda x:x['smiles']).collect())"
   ]
  },
  {
   "cell_type": "code",
   "execution_count": null,
   "metadata": {
    "collapsed": true
   },
   "outputs": [],
   "source": []
  }
 ],
 "metadata": {
  "kernelspec": {
   "display_name": "Python 3",
   "language": "python",
   "name": "python3"
  },
  "language_info": {
   "codemirror_mode": {
    "name": "ipython",
    "version": 3
   },
   "file_extension": ".py",
   "mimetype": "text/x-python",
   "name": "python",
   "nbconvert_exporter": "python",
   "pygments_lexer": "ipython3",
   "version": "3.6.0"
  }
 },
 "nbformat": 4,
 "nbformat_minor": 1
}
